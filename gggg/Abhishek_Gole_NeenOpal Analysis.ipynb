{
 "cells": [
  {
   "cell_type": "markdown",
   "id": "f7c2ff7d",
   "metadata": {},
   "source": [
    "### Importing Libraries"
   ]
  },
  {
   "cell_type": "code",
   "execution_count": 1,
   "id": "92d3a8bc",
   "metadata": {},
   "outputs": [],
   "source": [
    "import numpy as np\n",
    "import pandas as pd"
   ]
  },
  {
   "cell_type": "markdown",
   "id": "95d201c7",
   "metadata": {},
   "source": [
    "### Loading DataSets"
   ]
  },
  {
   "cell_type": "code",
   "execution_count": 2,
   "id": "674a8504",
   "metadata": {},
   "outputs": [],
   "source": [
    "df1 = pd.read_csv('data1.csv')\n",
    "df2 = pd.read_csv('data2.csv')"
   ]
  },
  {
   "cell_type": "markdown",
   "id": "62f89e75",
   "metadata": {},
   "source": [
    "### Creating composite keys in dataframes"
   ]
  },
  {
   "cell_type": "code",
   "execution_count": 3,
   "id": "dbc72086",
   "metadata": {},
   "outputs": [],
   "source": [
    "df1['key'] = df1['Order ID']+df1['Product ID']\n",
    "df2['key'] = df2['Order ID']+df2['Product ID']"
   ]
  },
  {
   "cell_type": "markdown",
   "id": "9de7e519",
   "metadata": {},
   "source": [
    "#### 1. How to identify the Records (Order ID + Product ID combination) present in data1 but missing in data2 (Specify the number of records missing in your answer)"
   ]
  },
  {
   "cell_type": "code",
   "execution_count": 4,
   "id": "48c3be3d",
   "metadata": {},
   "outputs": [],
   "source": [
    "df_left = df1.merge(df2.drop_duplicates(), on = 'key', how = 'left', indicator = True)"
   ]
  },
  {
   "cell_type": "code",
   "execution_count": 5,
   "id": "2a6ee769",
   "metadata": {},
   "outputs": [],
   "source": [
    "df2_missing_final = df_left[df_left['_merge'] == 'left_only']\\\n",
    "[['Order ID_x', 'Product ID_x', 'Qty_x']].\\\n",
    "rename(columns = {'Order ID_x':'Order ID' , 'Product ID_x':'Product ID', 'Qty_x':'Qty'}).\\\n",
    "reset_index().drop(columns = 'index')"
   ]
  },
  {
   "cell_type": "code",
   "execution_count": 6,
   "id": "3039225d",
   "metadata": {},
   "outputs": [
    {
     "data": {
      "text/html": [
       "<div>\n",
       "<style scoped>\n",
       "    .dataframe tbody tr th:only-of-type {\n",
       "        vertical-align: middle;\n",
       "    }\n",
       "\n",
       "    .dataframe tbody tr th {\n",
       "        vertical-align: top;\n",
       "    }\n",
       "\n",
       "    .dataframe thead th {\n",
       "        text-align: right;\n",
       "    }\n",
       "</style>\n",
       "<table border=\"1\" class=\"dataframe\">\n",
       "  <thead>\n",
       "    <tr style=\"text-align: right;\">\n",
       "      <th></th>\n",
       "      <th>Order ID</th>\n",
       "      <th>Product ID</th>\n",
       "      <th>Qty</th>\n",
       "    </tr>\n",
       "  </thead>\n",
       "  <tbody>\n",
       "    <tr>\n",
       "      <th>0</th>\n",
       "      <td>CA-2014-100006</td>\n",
       "      <td>TEC-PH-10002075</td>\n",
       "      <td>3</td>\n",
       "    </tr>\n",
       "    <tr>\n",
       "      <th>1</th>\n",
       "      <td>CA-2014-100678</td>\n",
       "      <td>OFF-EN-10000056</td>\n",
       "      <td>3</td>\n",
       "    </tr>\n",
       "    <tr>\n",
       "      <th>2</th>\n",
       "      <td>CA-2014-100895</td>\n",
       "      <td>OFF-AR-10004511</td>\n",
       "      <td>2</td>\n",
       "    </tr>\n",
       "    <tr>\n",
       "      <th>3</th>\n",
       "      <td>CA-2014-101560</td>\n",
       "      <td>OFF-BI-10000309</td>\n",
       "      <td>3</td>\n",
       "    </tr>\n",
       "    <tr>\n",
       "      <th>4</th>\n",
       "      <td>CA-2014-102673</td>\n",
       "      <td>OFF-LA-10001771</td>\n",
       "      <td>12</td>\n",
       "    </tr>\n",
       "  </tbody>\n",
       "</table>\n",
       "</div>"
      ],
      "text/plain": [
       "         Order ID       Product ID  Qty\n",
       "0  CA-2014-100006  TEC-PH-10002075    3\n",
       "1  CA-2014-100678  OFF-EN-10000056    3\n",
       "2  CA-2014-100895  OFF-AR-10004511    2\n",
       "3  CA-2014-101560  OFF-BI-10000309    3\n",
       "4  CA-2014-102673  OFF-LA-10001771   12"
      ]
     },
     "execution_count": 6,
     "metadata": {},
     "output_type": "execute_result"
    }
   ],
   "source": [
    "df2_missing_final.head()"
   ]
  },
  {
   "cell_type": "code",
   "execution_count": 7,
   "id": "5b56e4da",
   "metadata": {},
   "outputs": [
    {
     "data": {
      "text/plain": [
       "507"
      ]
     },
     "execution_count": 7,
     "metadata": {},
     "output_type": "execute_result"
    }
   ],
   "source": [
    "df2_missing_count = len(df2_missing_final)\n",
    "df2_missing_count"
   ]
  },
  {
   "cell_type": "markdown",
   "id": "89147290",
   "metadata": {},
   "source": [
    "#### 2. How to identify the Records (Order ID + Product ID combination) missing in data1 but present in data2 (Specify the number of records missing in your answer)"
   ]
  },
  {
   "cell_type": "code",
   "execution_count": 8,
   "id": "859d4a8e",
   "metadata": {},
   "outputs": [],
   "source": [
    "df_right = df2.merge(df1.drop_duplicates(), on = 'key', how = 'left', indicator = True)"
   ]
  },
  {
   "cell_type": "code",
   "execution_count": 9,
   "id": "9114e975",
   "metadata": {},
   "outputs": [],
   "source": [
    "df1_missing_final = df_right[df_right['_merge'] == 'left_only']\\\n",
    "[['Order ID_x', 'Product ID_x', 'Qty_x']].\\\n",
    "rename(columns = {'Order ID_x':'Order ID' , 'Product ID_x':'Product ID', 'Qty_x':'Qty'}).\\\n",
    "reset_index().drop(columns = 'index')"
   ]
  },
  {
   "cell_type": "code",
   "execution_count": 10,
   "id": "5cf2fd75",
   "metadata": {},
   "outputs": [
    {
     "data": {
      "text/html": [
       "<div>\n",
       "<style scoped>\n",
       "    .dataframe tbody tr th:only-of-type {\n",
       "        vertical-align: middle;\n",
       "    }\n",
       "\n",
       "    .dataframe tbody tr th {\n",
       "        vertical-align: top;\n",
       "    }\n",
       "\n",
       "    .dataframe thead th {\n",
       "        text-align: right;\n",
       "    }\n",
       "</style>\n",
       "<table border=\"1\" class=\"dataframe\">\n",
       "  <thead>\n",
       "    <tr style=\"text-align: right;\">\n",
       "      <th></th>\n",
       "      <th>Order ID</th>\n",
       "      <th>Product ID</th>\n",
       "      <th>Qty</th>\n",
       "    </tr>\n",
       "  </thead>\n",
       "  <tbody>\n",
       "    <tr>\n",
       "      <th>0</th>\n",
       "      <td>CA-2014-100706</td>\n",
       "      <td>TEC-AC-10001314</td>\n",
       "      <td>2</td>\n",
       "    </tr>\n",
       "    <tr>\n",
       "      <th>1</th>\n",
       "      <td>CA-2014-100762</td>\n",
       "      <td>OFF-PA-10001815</td>\n",
       "      <td>3</td>\n",
       "    </tr>\n",
       "    <tr>\n",
       "      <th>2</th>\n",
       "      <td>CA-2014-101427</td>\n",
       "      <td>OFF-AR-10002257</td>\n",
       "      <td>3</td>\n",
       "    </tr>\n",
       "    <tr>\n",
       "      <th>3</th>\n",
       "      <td>CA-2014-102652</td>\n",
       "      <td>FUR-FU-10001918</td>\n",
       "      <td>7</td>\n",
       "    </tr>\n",
       "    <tr>\n",
       "      <th>4</th>\n",
       "      <td>CA-2014-102869</td>\n",
       "      <td>OFF-PA-10000788</td>\n",
       "      <td>3</td>\n",
       "    </tr>\n",
       "  </tbody>\n",
       "</table>\n",
       "</div>"
      ],
      "text/plain": [
       "         Order ID       Product ID  Qty\n",
       "0  CA-2014-100706  TEC-AC-10001314    2\n",
       "1  CA-2014-100762  OFF-PA-10001815    3\n",
       "2  CA-2014-101427  OFF-AR-10002257    3\n",
       "3  CA-2014-102652  FUR-FU-10001918    7\n",
       "4  CA-2014-102869  OFF-PA-10000788    3"
      ]
     },
     "execution_count": 10,
     "metadata": {},
     "output_type": "execute_result"
    }
   ],
   "source": [
    "df1_missing_final.head()"
   ]
  },
  {
   "cell_type": "code",
   "execution_count": 11,
   "id": "0188851d",
   "metadata": {},
   "outputs": [
    {
     "data": {
      "text/plain": [
       "508"
      ]
     },
     "execution_count": 11,
     "metadata": {},
     "output_type": "execute_result"
    }
   ],
   "source": [
    "df1_missing_count = len(df1_missing_final)\n",
    "df1_missing_count"
   ]
  },
  {
   "cell_type": "markdown",
   "id": "12f869e9",
   "metadata": {},
   "source": [
    "#### 3. Find the Sum of the total Qty of Records missing in data1 but present in data2"
   ]
  },
  {
   "cell_type": "code",
   "execution_count": 12,
   "id": "fa4dc6c4",
   "metadata": {},
   "outputs": [
    {
     "data": {
      "text/plain": [
       "1956"
      ]
     },
     "execution_count": 12,
     "metadata": {},
     "output_type": "execute_result"
    }
   ],
   "source": [
    "df1_qty_sum = df1_missing_final.Qty.sum()\n",
    "df1_qty_sum"
   ]
  },
  {
   "cell_type": "markdown",
   "id": "c8dbfc72",
   "metadata": {},
   "source": [
    "#### 4. Find the total number of unique records (Order ID + Product ID combination) present in the combined dataset of data1 and data2"
   ]
  },
  {
   "cell_type": "code",
   "execution_count": 13,
   "id": "cbd96a2e",
   "metadata": {},
   "outputs": [
    {
     "data": {
      "text/plain": [
       "9986"
      ]
     },
     "execution_count": 13,
     "metadata": {},
     "output_type": "execute_result"
    }
   ],
   "source": [
    "unique_count = len(pd.concat([df1, df2])[['key']].drop_duplicates())\n",
    "unique_count"
   ]
  },
  {
   "cell_type": "code",
   "execution_count": null,
   "id": "da68b2be",
   "metadata": {},
   "outputs": [],
   "source": []
  }
 ],
 "metadata": {
  "kernelspec": {
   "display_name": "Python 3 (ipykernel)",
   "language": "python",
   "name": "python3"
  },
  "language_info": {
   "codemirror_mode": {
    "name": "ipython",
    "version": 3
   },
   "file_extension": ".py",
   "mimetype": "text/x-python",
   "name": "python",
   "nbconvert_exporter": "python",
   "pygments_lexer": "ipython3",
   "version": "3.9.12"
  }
 },
 "nbformat": 4,
 "nbformat_minor": 5
}
